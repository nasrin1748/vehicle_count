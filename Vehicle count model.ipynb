{
 "cells": [
  {
   "cell_type": "markdown",
   "metadata": {},
   "source": [
    "# Task"
   ]
  },
  {
   "cell_type": "markdown",
   "metadata": {},
   "source": [
    "To build a vehicle count model that takes an input of the path of the video and two coordinates (these coordinates are used to create a line you have to count the vehicles crossing this line) using any Deep Learning approach."
   ]
  },
  {
   "cell_type": "markdown",
   "metadata": {},
   "source": [
    "# Approach to the model"
   ]
  },
  {
   "cell_type": "code",
   "execution_count": null,
   "metadata": {},
   "outputs": [],
   "source": [
    "Downloaded the mp4 files.\n",
    "Used glob to store the mp4 file names into a list.\n",
    "I used OpenCV vehicle Detection model with python.\n",
    " . Frame Differencing\n",
    " . Image Thresholding\n",
    " . Contour Findinge\n",
    " . EqualizeHist\n",
    " . Apply image dilation."
   ]
  },
  {
   "cell_type": "markdown",
   "metadata": {},
   "source": [
    "# Why you choose that model?"
   ]
  },
  {
   "cell_type": "markdown",
   "metadata": {},
   "source": [
    "I consider this problem as a computer vision problem.OpenCV is great at solving computer vision problems."
   ]
  },
  {
   "cell_type": "markdown",
   "metadata": {},
   "source": [
    "# What other model you could have used for the same?"
   ]
  },
  {
   "cell_type": "code",
   "execution_count": null,
   "metadata": {},
   "outputs": [],
   "source": [
    "Haarcascade classifier can be use to train the vehicles and count."
   ]
  },
  {
   "cell_type": "markdown",
   "metadata": {},
   "source": [
    "# Why your current model is better than other models?"
   ]
  },
  {
   "cell_type": "code",
   "execution_count": null,
   "metadata": {},
   "outputs": [],
   "source": [
    "its working for both day and night so the current model works fine for me. "
   ]
  },
  {
   "cell_type": "markdown",
   "metadata": {},
   "source": [
    "Importing Liberaries"
   ]
  },
  {
   "cell_type": "code",
   "execution_count": 2,
   "metadata": {},
   "outputs": [],
   "source": [
    "import numpy as np\n",
    "import pandas as pd\n",
    "import cv2\n",
    "import matplotlib.pyplot as plt\n",
    "%matplotlib inline\n",
    "from PIL import Image"
   ]
  },
  {
   "cell_type": "code",
   "execution_count": 3,
   "metadata": {},
   "outputs": [],
   "source": [
    "#getting mp4 filenames into a list.\n",
    "from glob import glob\n",
    "train = glob('./Downloads/mp4/*.mp4')"
   ]
  },
  {
   "cell_type": "code",
   "execution_count": 5,
   "metadata": {},
   "outputs": [],
   "source": [
    "cap = cv2.VideoCapture(train[0])\n",
    "count = 0\n",
    "while True:\n",
    "    ret,frame1 = cap.read()\n",
    "    ret,frame2 = cap.read()\n",
    "    #frame = frame1.copy()\n",
    "    if ret == False:\n",
    "        break\n",
    "    fore_groundmask=cv2.absdiff(frame1,frame2)\n",
    "    fore_groundmask=cv2.cvtColor(fore_groundmask,cv2.COLOR_BGR2GRAY)\n",
    "    fore_groundmask = cv2.equalizeHist(fore_groundmask)\n",
    "    _, thresh = cv2.threshold(fore_groundmask, 50, 255, cv2.THRESH_BINARY)\n",
    "    kernel = np.ones((3,3),np.uint8)\n",
    "    thresh = cv2.dilate(thresh,kernel,iterations = 1)\n",
    "    frame1 = frame2\n",
    "    #draw line\n",
    "    cv2.line(frame1,(0,350),(1100,350),(0,0,255),2)\n",
    "    #cv2.line(frame1,(0,310),(820,170),(0,255,0),1)\n",
    "    #cv2.line(frame1,(0,360),(870,210),(0,255,0),1)\n",
    "    #find contours\n",
    "    conts, _ = cv2.findContours(thresh, cv2.RETR_LIST, cv2.CHAIN_APPROX_SIMPLE)\n",
    "    for c in conts:\n",
    "        if cv2.contourArea(c) < 7000:\n",
    "            continue\n",
    "        x,y,w,h = cv2.boundingRect(c)\n",
    "        #cv2.rectangle(frame1,(x,y),(x+w,y+h),(0,255,0),2)\n",
    "        xmid = int((x+(x+w))/2)\n",
    "        ymid = int((y+(y+h))/2)\n",
    "        #cv2.circle(frame1,(xmid,ymid),5,(0,0,255),5)\n",
    "        if ymid>350 and ymid<360:\n",
    "            count+=1\n",
    "    cv2.imshow('foregroundmask',fore_groundmask)\n",
    "    cv2.putText(frame1,'Vehicle_count : {}'.format(count),(330,50),cv2.FONT_HERSHEY_PLAIN,2,(255,255,255),2)\n",
    "    cv2.imshow('object_detect',frame1)\n",
    "    if cv2.waitKey(400) == 27:\n",
    "        break\n",
    "cv2.destroyAllWindows()\n",
    "cap.release()"
   ]
  },
  {
   "cell_type": "code",
   "execution_count": 6,
   "metadata": {},
   "outputs": [],
   "source": [
    "cap = cv2.VideoCapture(train[1])\n",
    "count = 0\n",
    "while True:\n",
    "    ret,frame1 = cap.read()\n",
    "    ret,frame2 = cap.read()\n",
    "    #frame = frame1.copy()\n",
    "    if ret == False:\n",
    "        break\n",
    "    fore_groundmask=cv2.absdiff(frame1,frame2)\n",
    "    fore_groundmask=cv2.cvtColor(fore_groundmask,cv2.COLOR_BGR2GRAY)\n",
    "    fore_groundmask = cv2.equalizeHist(fore_groundmask)\n",
    "    _, thresh = cv2.threshold(fore_groundmask, 50, 255, cv2.THRESH_BINARY)\n",
    "    kernel = np.ones((3,3),np.uint8)\n",
    "    thresh = cv2.dilate(thresh,kernel,iterations = 1)\n",
    "    frame1 = frame2\n",
    "    #draw line\n",
    "    cv2.line(frame1,(0,350),(1100,350),(0,0,255),2)\n",
    "    #cv2.line(frame1,(0,310),(820,170),(0,255,0),1)\n",
    "    #cv2.line(frame1,(0,360),(870,210),(0,255,0),1)\n",
    "    #find contours\n",
    "    conts, _ = cv2.findContours(thresh, cv2.RETR_LIST, cv2.CHAIN_APPROX_SIMPLE)\n",
    "    for c in conts:\n",
    "        if cv2.contourArea(c) < 1000:\n",
    "            continue\n",
    "        x,y,w,h = cv2.boundingRect(c)\n",
    "        #cv2.rectangle(frame1,(x,y),(x+w,y+h),(0,255,0),2)\n",
    "        xmid = int((x+(x+w))/2)\n",
    "        ymid = int((y+(y+h))/2)\n",
    "        #cv2.circle(frame1,(xmid,ymid),5,(0,0,255),5)\n",
    "        if ymid>350 and ymid<360:\n",
    "            count+=1\n",
    "    cv2.imshow('foregroundmask',fore_groundmask)\n",
    "    cv2.putText(frame1,'Vehicle_count : {}'.format(count),(330,50),cv2.FONT_HERSHEY_PLAIN,2,(255,255,255),2)\n",
    "    cv2.imshow('object_detect',frame1)\n",
    "    if cv2.waitKey(400) == 27:\n",
    "        break\n",
    "cv2.destroyAllWindows()\n",
    "cap.release()"
   ]
  },
  {
   "cell_type": "code",
   "execution_count": 7,
   "metadata": {},
   "outputs": [],
   "source": [
    "cap = cv2.VideoCapture(train[2])\n",
    "count = 0\n",
    "while True:\n",
    "    ret,frame1 = cap.read()\n",
    "    ret,frame2 = cap.read()\n",
    "    #frame = frame1.copy()\n",
    "    if ret == False:\n",
    "        break\n",
    "    fore_groundmask=cv2.absdiff(frame1,frame2)\n",
    "    fore_groundmask=cv2.cvtColor(fore_groundmask,cv2.COLOR_BGR2GRAY)\n",
    "    fore_groundmask = cv2.equalizeHist(fore_groundmask)\n",
    "    _, thresh = cv2.threshold(fore_groundmask, 50, 255, cv2.THRESH_BINARY)\n",
    "    kernel = np.ones((3,3),np.uint8)\n",
    "    thresh = cv2.dilate(thresh,kernel,iterations = 1)\n",
    "    frame1 = frame2\n",
    "    #draw line\n",
    "    cv2.line(frame1,(0,350),(1100,350),(0,0,255),2)\n",
    "    #cv2.line(frame1,(0,310),(820,170),(0,255,0),1)\n",
    "    #cv2.line(frame1,(0,360),(870,210),(0,255,0),1)\n",
    "    #find contours\n",
    "    conts, _ = cv2.findContours(thresh, cv2.RETR_LIST, cv2.CHAIN_APPROX_SIMPLE)\n",
    "    for c in conts:\n",
    "        if cv2.contourArea(c) < 7000:\n",
    "            continue\n",
    "        x,y,w,h = cv2.boundingRect(c)\n",
    "        #cv2.rectangle(frame1,(x,y),(x+w,y+h),(0,255,0),2)\n",
    "        xmid = int((x+(x+w))/2)\n",
    "        ymid = int((y+(y+h))/2)\n",
    "        #cv2.circle(frame1,(xmid,ymid),5,(0,0,255),5)\n",
    "        if ymid>350 and ymid<360:\n",
    "            count+=1\n",
    "    cv2.imshow('foregroundmask',fore_groundmask)\n",
    "    cv2.putText(frame1,'Vehicle_count : {}'.format(count),(330,50),cv2.FONT_HERSHEY_PLAIN,2,(255,255,255),2)\n",
    "    cv2.imshow('object_detect',frame1)\n",
    "    if cv2.waitKey(400) == 27:\n",
    "        break\n",
    "cv2.destroyAllWindows()\n",
    "cap.release()"
   ]
  },
  {
   "cell_type": "code",
   "execution_count": 4,
   "metadata": {},
   "outputs": [],
   "source": [
    "cap = cv2.VideoCapture(train[3])\n",
    "count = 0\n",
    "while True:\n",
    "    ret,frame1 = cap.read()\n",
    "    ret,frame2 = cap.read()\n",
    "    #frame = frame1.copy()\n",
    "    if ret == False:\n",
    "        break\n",
    "    fore_groundmask=cv2.absdiff(frame1,frame2)\n",
    "    fore_groundmask=cv2.cvtColor(fore_groundmask,cv2.COLOR_BGR2GRAY)\n",
    "    fore_groundmask = cv2.equalizeHist(fore_groundmask)\n",
    "    _, thresh = cv2.threshold(fore_groundmask, 50, 255, cv2.THRESH_BINARY)\n",
    "    kernel = np.ones((3,3),np.uint8)\n",
    "    thresh = cv2.dilate(thresh,kernel,iterations = 1)\n",
    "    frame1 = frame2\n",
    "    #draw line\n",
    "    cv2.line(frame1,(0,350),(1100,350),(0,0,255),2)\n",
    "    #cv2.line(frame1,(0,310),(820,170),(0,255,0),1)\n",
    "    #cv2.line(frame1,(0,360),(870,210),(0,255,0),1)\n",
    "    #find contours\n",
    "    conts, _ = cv2.findContours(thresh, cv2.RETR_LIST, cv2.CHAIN_APPROX_SIMPLE)\n",
    "    for c in conts:\n",
    "        if cv2.contourArea(c) < 7000:\n",
    "            continue\n",
    "        x,y,w,h = cv2.boundingRect(c)\n",
    "        #cv2.rectangle(frame1,(x,y),(x+w,y+h),(0,255,0),2)\n",
    "        xmid = int((x+(x+w))/2)\n",
    "        ymid = int((y+(y+h))/2)\n",
    "        #cv2.circle(frame1,(xmid,ymid),5,(0,0,255),5)\n",
    "        if ymid>350 and ymid<360:\n",
    "            count+=1\n",
    "    cv2.imshow('foregroundmask',fore_groundmask)\n",
    "    cv2.putText(frame1,'Vehicle_count : {}'.format(count),(330,50),cv2.FONT_HERSHEY_PLAIN,2,(255,255,255),2)\n",
    "    cv2.imshow('object_detect',frame1)\n",
    "    if cv2.waitKey(400) == 27:\n",
    "        break\n",
    "cv2.destroyAllWindows()\n",
    "cap.release()"
   ]
  },
  {
   "cell_type": "markdown",
   "metadata": {},
   "source": [
    "conclusion:\n",
    "1615363610851.mp4,20210325113656.mp4,Night Time Traffic Camera video.mp4 works fine with the same model.\n",
    "20201230123300.mp4 needs ContourArea value because of the smaller vehicles in the video and most of the vehicles being bikes.\n",
    " "
   ]
  }
 ],
 "metadata": {
  "kernelspec": {
   "display_name": "Python 3",
   "language": "python",
   "name": "python3"
  },
  "language_info": {
   "codemirror_mode": {
    "name": "ipython",
    "version": 3
   },
   "file_extension": ".py",
   "mimetype": "text/x-python",
   "name": "python",
   "nbconvert_exporter": "python",
   "pygments_lexer": "ipython3",
   "version": "3.8.5"
  }
 },
 "nbformat": 4,
 "nbformat_minor": 4
}
